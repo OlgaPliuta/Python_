{
  "nbformat": 4,
  "nbformat_minor": 0,
  "metadata": {
    "colab": {
      "name": "Intro to ML Stepik.ipynb",
      "provenance": [],
      "authorship_tag": "ABX9TyOMgIMq3AQYhcxUidfN4CLv",
      "include_colab_link": true
    },
    "kernelspec": {
      "name": "python3",
      "display_name": "Python 3"
    },
    "language_info": {
      "name": "python"
    }
  },
  "cells": [
    {
      "cell_type": "markdown",
      "metadata": {
        "id": "view-in-github",
        "colab_type": "text"
      },
      "source": [
        "<a href=\"https://colab.research.google.com/github/OlgaPliuta/Python_Openedu/blob/master/Intro_to_ML_Stepik.ipynb\" target=\"_parent\"><img src=\"https://colab.research.google.com/assets/colab-badge.svg\" alt=\"Open In Colab\"/></a>"
      ]
    },
    {
      "cell_type": "code",
      "metadata": {
        "id": "1QqVCoHLDcQV"
      },
      "source": [
        "import pandas as pd\n",
        "import numpy as np"
      ],
      "execution_count": 45,
      "outputs": []
    },
    {
      "cell_type": "code",
      "metadata": {
        "id": "jo8b1HKI7TA5"
      },
      "source": [
        "import seaborn as sns\n",
        "import matplotlib\n",
        "import matplotlib.pyplot as plt"
      ],
      "execution_count": 46,
      "outputs": []
    },
    {
      "cell_type": "code",
      "metadata": {
        "id": "FHJ6ebLUJk6-"
      },
      "source": [
        "events_data = pd.read_csv('https://stepik.org/media/attachments/course/4852/event_data_train.zip')\n",
        "submissions_data = pd.read_csv('https://stepik.org/media/attachments/course/4852/submissions_data_train.zip')"
      ],
      "execution_count": 47,
      "outputs": []
    },
    {
      "cell_type": "code",
      "metadata": {
        "colab": {
          "base_uri": "https://localhost:8080/",
          "height": 204
        },
        "id": "nc1RJwI6Dk_Q",
        "outputId": "eb983df5-9217-43ec-b220-27dff55f36da"
      },
      "source": [
        "events_data.head()"
      ],
      "execution_count": 48,
      "outputs": [
        {
          "output_type": "execute_result",
          "data": {
            "text/html": [
              "<div>\n",
              "<style scoped>\n",
              "    .dataframe tbody tr th:only-of-type {\n",
              "        vertical-align: middle;\n",
              "    }\n",
              "\n",
              "    .dataframe tbody tr th {\n",
              "        vertical-align: top;\n",
              "    }\n",
              "\n",
              "    .dataframe thead th {\n",
              "        text-align: right;\n",
              "    }\n",
              "</style>\n",
              "<table border=\"1\" class=\"dataframe\">\n",
              "  <thead>\n",
              "    <tr style=\"text-align: right;\">\n",
              "      <th></th>\n",
              "      <th>step_id</th>\n",
              "      <th>timestamp</th>\n",
              "      <th>action</th>\n",
              "      <th>user_id</th>\n",
              "    </tr>\n",
              "  </thead>\n",
              "  <tbody>\n",
              "    <tr>\n",
              "      <th>0</th>\n",
              "      <td>32815</td>\n",
              "      <td>1434340848</td>\n",
              "      <td>viewed</td>\n",
              "      <td>17632</td>\n",
              "    </tr>\n",
              "    <tr>\n",
              "      <th>1</th>\n",
              "      <td>32815</td>\n",
              "      <td>1434340848</td>\n",
              "      <td>passed</td>\n",
              "      <td>17632</td>\n",
              "    </tr>\n",
              "    <tr>\n",
              "      <th>2</th>\n",
              "      <td>32815</td>\n",
              "      <td>1434340848</td>\n",
              "      <td>discovered</td>\n",
              "      <td>17632</td>\n",
              "    </tr>\n",
              "    <tr>\n",
              "      <th>3</th>\n",
              "      <td>32811</td>\n",
              "      <td>1434340895</td>\n",
              "      <td>discovered</td>\n",
              "      <td>17632</td>\n",
              "    </tr>\n",
              "    <tr>\n",
              "      <th>4</th>\n",
              "      <td>32811</td>\n",
              "      <td>1434340895</td>\n",
              "      <td>viewed</td>\n",
              "      <td>17632</td>\n",
              "    </tr>\n",
              "  </tbody>\n",
              "</table>\n",
              "</div>"
            ],
            "text/plain": [
              "   step_id   timestamp      action  user_id\n",
              "0    32815  1434340848      viewed    17632\n",
              "1    32815  1434340848      passed    17632\n",
              "2    32815  1434340848  discovered    17632\n",
              "3    32811  1434340895  discovered    17632\n",
              "4    32811  1434340895      viewed    17632"
            ]
          },
          "metadata": {
            "tags": []
          },
          "execution_count": 48
        }
      ]
    },
    {
      "cell_type": "code",
      "metadata": {
        "colab": {
          "base_uri": "https://localhost:8080/"
        },
        "id": "ErGwV6wHBDQL",
        "outputId": "ecffebbd-1d3e-46dd-b4da-7e37206fa5a5"
      },
      "source": [
        "events_data.action.unique()"
      ],
      "execution_count": 49,
      "outputs": [
        {
          "output_type": "execute_result",
          "data": {
            "text/plain": [
              "array(['viewed', 'passed', 'discovered', 'started_attempt'], dtype=object)"
            ]
          },
          "metadata": {
            "tags": []
          },
          "execution_count": 49
        }
      ]
    },
    {
      "cell_type": "code",
      "metadata": {
        "id": "yTRjA4zXIplb"
      },
      "source": [
        "events_data['date'] = pd.to_datetime(events_data.timestamp, unit='s')"
      ],
      "execution_count": 50,
      "outputs": []
    },
    {
      "cell_type": "code",
      "metadata": {
        "colab": {
          "base_uri": "https://localhost:8080/",
          "height": 204
        },
        "id": "xwtV0bv7JOvE",
        "outputId": "def00164-9c65-4204-a6d8-264e01c8ba55"
      },
      "source": [
        "events_data.head()"
      ],
      "execution_count": 51,
      "outputs": [
        {
          "output_type": "execute_result",
          "data": {
            "text/html": [
              "<div>\n",
              "<style scoped>\n",
              "    .dataframe tbody tr th:only-of-type {\n",
              "        vertical-align: middle;\n",
              "    }\n",
              "\n",
              "    .dataframe tbody tr th {\n",
              "        vertical-align: top;\n",
              "    }\n",
              "\n",
              "    .dataframe thead th {\n",
              "        text-align: right;\n",
              "    }\n",
              "</style>\n",
              "<table border=\"1\" class=\"dataframe\">\n",
              "  <thead>\n",
              "    <tr style=\"text-align: right;\">\n",
              "      <th></th>\n",
              "      <th>step_id</th>\n",
              "      <th>timestamp</th>\n",
              "      <th>action</th>\n",
              "      <th>user_id</th>\n",
              "      <th>date</th>\n",
              "    </tr>\n",
              "  </thead>\n",
              "  <tbody>\n",
              "    <tr>\n",
              "      <th>0</th>\n",
              "      <td>32815</td>\n",
              "      <td>1434340848</td>\n",
              "      <td>viewed</td>\n",
              "      <td>17632</td>\n",
              "      <td>2015-06-15 04:00:48</td>\n",
              "    </tr>\n",
              "    <tr>\n",
              "      <th>1</th>\n",
              "      <td>32815</td>\n",
              "      <td>1434340848</td>\n",
              "      <td>passed</td>\n",
              "      <td>17632</td>\n",
              "      <td>2015-06-15 04:00:48</td>\n",
              "    </tr>\n",
              "    <tr>\n",
              "      <th>2</th>\n",
              "      <td>32815</td>\n",
              "      <td>1434340848</td>\n",
              "      <td>discovered</td>\n",
              "      <td>17632</td>\n",
              "      <td>2015-06-15 04:00:48</td>\n",
              "    </tr>\n",
              "    <tr>\n",
              "      <th>3</th>\n",
              "      <td>32811</td>\n",
              "      <td>1434340895</td>\n",
              "      <td>discovered</td>\n",
              "      <td>17632</td>\n",
              "      <td>2015-06-15 04:01:35</td>\n",
              "    </tr>\n",
              "    <tr>\n",
              "      <th>4</th>\n",
              "      <td>32811</td>\n",
              "      <td>1434340895</td>\n",
              "      <td>viewed</td>\n",
              "      <td>17632</td>\n",
              "      <td>2015-06-15 04:01:35</td>\n",
              "    </tr>\n",
              "  </tbody>\n",
              "</table>\n",
              "</div>"
            ],
            "text/plain": [
              "   step_id   timestamp      action  user_id                date\n",
              "0    32815  1434340848      viewed    17632 2015-06-15 04:00:48\n",
              "1    32815  1434340848      passed    17632 2015-06-15 04:00:48\n",
              "2    32815  1434340848  discovered    17632 2015-06-15 04:00:48\n",
              "3    32811  1434340895  discovered    17632 2015-06-15 04:01:35\n",
              "4    32811  1434340895      viewed    17632 2015-06-15 04:01:35"
            ]
          },
          "metadata": {
            "tags": []
          },
          "execution_count": 51
        }
      ]
    },
    {
      "cell_type": "code",
      "metadata": {
        "colab": {
          "base_uri": "https://localhost:8080/"
        },
        "id": "MjA89SfFJQUh",
        "outputId": "5ade2d3d-cd1b-48cd-d38b-cd74cbc31217"
      },
      "source": [
        "events_data.date.min()"
      ],
      "execution_count": 52,
      "outputs": [
        {
          "output_type": "execute_result",
          "data": {
            "text/plain": [
              "Timestamp('2015-06-15 04:00:48')"
            ]
          },
          "metadata": {
            "tags": []
          },
          "execution_count": 52
        }
      ]
    },
    {
      "cell_type": "code",
      "metadata": {
        "colab": {
          "base_uri": "https://localhost:8080/",
          "height": 204
        },
        "id": "w-lnlO8BJbdd",
        "outputId": "dfd8fab0-b87f-4076-a02c-42dc53928622"
      },
      "source": [
        "events_data['day'] = events_data.date.dt.date\n",
        "events_data.head()"
      ],
      "execution_count": 53,
      "outputs": [
        {
          "output_type": "execute_result",
          "data": {
            "text/html": [
              "<div>\n",
              "<style scoped>\n",
              "    .dataframe tbody tr th:only-of-type {\n",
              "        vertical-align: middle;\n",
              "    }\n",
              "\n",
              "    .dataframe tbody tr th {\n",
              "        vertical-align: top;\n",
              "    }\n",
              "\n",
              "    .dataframe thead th {\n",
              "        text-align: right;\n",
              "    }\n",
              "</style>\n",
              "<table border=\"1\" class=\"dataframe\">\n",
              "  <thead>\n",
              "    <tr style=\"text-align: right;\">\n",
              "      <th></th>\n",
              "      <th>step_id</th>\n",
              "      <th>timestamp</th>\n",
              "      <th>action</th>\n",
              "      <th>user_id</th>\n",
              "      <th>date</th>\n",
              "      <th>day</th>\n",
              "    </tr>\n",
              "  </thead>\n",
              "  <tbody>\n",
              "    <tr>\n",
              "      <th>0</th>\n",
              "      <td>32815</td>\n",
              "      <td>1434340848</td>\n",
              "      <td>viewed</td>\n",
              "      <td>17632</td>\n",
              "      <td>2015-06-15 04:00:48</td>\n",
              "      <td>2015-06-15</td>\n",
              "    </tr>\n",
              "    <tr>\n",
              "      <th>1</th>\n",
              "      <td>32815</td>\n",
              "      <td>1434340848</td>\n",
              "      <td>passed</td>\n",
              "      <td>17632</td>\n",
              "      <td>2015-06-15 04:00:48</td>\n",
              "      <td>2015-06-15</td>\n",
              "    </tr>\n",
              "    <tr>\n",
              "      <th>2</th>\n",
              "      <td>32815</td>\n",
              "      <td>1434340848</td>\n",
              "      <td>discovered</td>\n",
              "      <td>17632</td>\n",
              "      <td>2015-06-15 04:00:48</td>\n",
              "      <td>2015-06-15</td>\n",
              "    </tr>\n",
              "    <tr>\n",
              "      <th>3</th>\n",
              "      <td>32811</td>\n",
              "      <td>1434340895</td>\n",
              "      <td>discovered</td>\n",
              "      <td>17632</td>\n",
              "      <td>2015-06-15 04:01:35</td>\n",
              "      <td>2015-06-15</td>\n",
              "    </tr>\n",
              "    <tr>\n",
              "      <th>4</th>\n",
              "      <td>32811</td>\n",
              "      <td>1434340895</td>\n",
              "      <td>viewed</td>\n",
              "      <td>17632</td>\n",
              "      <td>2015-06-15 04:01:35</td>\n",
              "      <td>2015-06-15</td>\n",
              "    </tr>\n",
              "  </tbody>\n",
              "</table>\n",
              "</div>"
            ],
            "text/plain": [
              "   step_id   timestamp      action  user_id                date         day\n",
              "0    32815  1434340848      viewed    17632 2015-06-15 04:00:48  2015-06-15\n",
              "1    32815  1434340848      passed    17632 2015-06-15 04:00:48  2015-06-15\n",
              "2    32815  1434340848  discovered    17632 2015-06-15 04:00:48  2015-06-15\n",
              "3    32811  1434340895  discovered    17632 2015-06-15 04:01:35  2015-06-15\n",
              "4    32811  1434340895      viewed    17632 2015-06-15 04:01:35  2015-06-15"
            ]
          },
          "metadata": {
            "tags": []
          },
          "execution_count": 53
        }
      ]
    },
    {
      "cell_type": "code",
      "metadata": {
        "colab": {
          "base_uri": "https://localhost:8080/",
          "height": 308
        },
        "id": "MTbQ8ZnKOh_i",
        "outputId": "7060444d-5af0-4822-dfae-f20358f494d1"
      },
      "source": [
        "events_data.index = events_data['date']\n",
        "events_data['action'].resample('M').count().plot()"
      ],
      "execution_count": 54,
      "outputs": [
        {
          "output_type": "execute_result",
          "data": {
            "text/plain": [
              "<matplotlib.axes._subplots.AxesSubplot at 0x7f640ef91d90>"
            ]
          },
          "metadata": {
            "tags": []
          },
          "execution_count": 54
        },
        {
          "output_type": "display_data",
          "data": {
            "image/png": "[encoded data removed]",
            "text/plain": [
              "<Figure size 432x288 with 1 Axes>"
            ]
          },
          "metadata": {
            "tags": [],
            "needs_background": "light"
          }
        }
      ]
    },
    {
      "cell_type": "code",
      "metadata": {
        "colab": {
          "base_uri": "https://localhost:8080/"
        },
        "id": "kH1QU4cNLUOA",
        "outputId": "ba1d86f1-f022-4269-ea01-72257b34d241"
      },
      "source": [
        "events_data.groupby('day').user_id.nunique()"
      ],
      "execution_count": 55,
      "outputs": [
        {
          "output_type": "execute_result",
          "data": {
            "text/plain": [
              "day\n",
              "2015-06-15    705\n",
              "2015-06-16    526\n",
              "2015-06-17    440\n",
              "2015-06-18    411\n",
              "2015-06-19    377\n",
              "             ... \n",
              "2018-05-15    145\n",
              "2018-05-16    155\n",
              "2018-05-17    165\n",
              "2018-05-18    126\n",
              "2018-05-19    131\n",
              "Name: user_id, Length: 1070, dtype: int64"
            ]
          },
          "metadata": {
            "tags": []
          },
          "execution_count": 55
        }
      ]
    },
    {
      "cell_type": "code",
      "metadata": {
        "colab": {
          "base_uri": "https://localhost:8080/",
          "height": 623
        },
        "id": "vIb1pZ5BLu50",
        "outputId": "50967789-a42c-422d-8df3-4c86a07d16ec"
      },
      "source": [
        "events_data.groupby('day').user_id.nunique().plot(figsize = (20, 10))"
      ],
      "execution_count": 56,
      "outputs": [
        {
          "output_type": "execute_result",
          "data": {
            "text/plain": [
              "<matplotlib.axes._subplots.AxesSubplot at 0x7f640857a290>"
            ]
          },
          "metadata": {
            "tags": []
          },
          "execution_count": 56
        },
        {
          "output_type": "display_data",
          "data": {
            "image/png": "[encoded data removed]",
            "text/plain": [
              "<Figure size 1440x720 with 1 Axes>"
            ]
          },
          "metadata": {
            "tags": [],
            "needs_background": "light"
          }
        }
      ]
    },
    {
      "cell_type": "code",
      "metadata": {
        "colab": {
          "base_uri": "https://localhost:8080/",
          "height": 282
        },
        "id": "7uhMEt7FL7to",
        "outputId": "12b0e183-871a-4858-de0a-93962c58ddd0"
      },
      "source": [
        "events_data[events_data.action == 'passed'].groupby('user_id', as_index = False).agg({'step_id' : 'count'}).rename(columns = {'step_id' : 'passed_steps'}).passed_steps.hist()"
      ],
      "execution_count": 57,
      "outputs": [
        {
          "output_type": "execute_result",
          "data": {
            "text/plain": [
              "<matplotlib.axes._subplots.AxesSubplot at 0x7f640f48ee50>"
            ]
          },
          "metadata": {
            "tags": []
          },
          "execution_count": 57
        },
        {
          "output_type": "display_data",
          "data": {
            "image/png": "[encoded data removed]",
            "text/plain": [
              "<Figure size 432x288 with 1 Axes>"
            ]
          },
          "metadata": {
            "tags": [],
            "needs_background": "light"
          }
        }
      ]
    },
    {
      "cell_type": "code",
      "metadata": {
        "colab": {
          "base_uri": "https://localhost:8080/",
          "height": 282
        },
        "id": "qVrv7l-JMZhr",
        "outputId": "9859da31-0f52-4129-aabf-c9f98cabc0e3"
      },
      "source": [
        "events_data.pivot_table(index = 'user_id', columns = 'action', values = 'step_id', aggfunc = 'count', fill_value=0).reset_index().discovered.hist()"
      ],
      "execution_count": 58,
      "outputs": [
        {
          "output_type": "execute_result",
          "data": {
            "text/plain": [
              "<matplotlib.axes._subplots.AxesSubplot at 0x7f6408465e90>"
            ]
          },
          "metadata": {
            "tags": []
          },
          "execution_count": 58
        },
        {
          "output_type": "display_data",
          "data": {
            "image/png": "[encoded data removed]",
            "text/plain": [
              "<Figure size 432x288 with 1 Axes>"
            ]
          },
          "metadata": {
            "tags": [],
            "needs_background": "light"
          }
        }
      ]
    },
    {
      "cell_type": "code",
      "metadata": {
        "colab": {
          "base_uri": "https://localhost:8080/",
          "height": 204
        },
        "id": "v1CzL4EBR4N7",
        "outputId": "1c1366b8-6316-4252-d262-52a9715a411c"
      },
      "source": [
        "submissions_data.head()"
      ],
      "execution_count": 59,
      "outputs": [
        {
          "output_type": "execute_result",
          "data": {
            "text/html": [
              "<div>\n",
              "<style scoped>\n",
              "    .dataframe tbody tr th:only-of-type {\n",
              "        vertical-align: middle;\n",
              "    }\n",
              "\n",
              "    .dataframe tbody tr th {\n",
              "        vertical-align: top;\n",
              "    }\n",
              "\n",
              "    .dataframe thead th {\n",
              "        text-align: right;\n",
              "    }\n",
              "</style>\n",
              "<table border=\"1\" class=\"dataframe\">\n",
              "  <thead>\n",
              "    <tr style=\"text-align: right;\">\n",
              "      <th></th>\n",
              "      <th>step_id</th>\n",
              "      <th>timestamp</th>\n",
              "      <th>submission_status</th>\n",
              "      <th>user_id</th>\n",
              "    </tr>\n",
              "  </thead>\n",
              "  <tbody>\n",
              "    <tr>\n",
              "      <th>0</th>\n",
              "      <td>31971</td>\n",
              "      <td>1434349275</td>\n",
              "      <td>correct</td>\n",
              "      <td>15853</td>\n",
              "    </tr>\n",
              "    <tr>\n",
              "      <th>1</th>\n",
              "      <td>31972</td>\n",
              "      <td>1434348300</td>\n",
              "      <td>correct</td>\n",
              "      <td>15853</td>\n",
              "    </tr>\n",
              "    <tr>\n",
              "      <th>2</th>\n",
              "      <td>31972</td>\n",
              "      <td>1478852149</td>\n",
              "      <td>wrong</td>\n",
              "      <td>15853</td>\n",
              "    </tr>\n",
              "    <tr>\n",
              "      <th>3</th>\n",
              "      <td>31972</td>\n",
              "      <td>1478852164</td>\n",
              "      <td>correct</td>\n",
              "      <td>15853</td>\n",
              "    </tr>\n",
              "    <tr>\n",
              "      <th>4</th>\n",
              "      <td>31976</td>\n",
              "      <td>1434348123</td>\n",
              "      <td>wrong</td>\n",
              "      <td>15853</td>\n",
              "    </tr>\n",
              "  </tbody>\n",
              "</table>\n",
              "</div>"
            ],
            "text/plain": [
              "   step_id   timestamp submission_status  user_id\n",
              "0    31971  1434349275           correct    15853\n",
              "1    31972  1434348300           correct    15853\n",
              "2    31972  1478852149             wrong    15853\n",
              "3    31972  1478852164           correct    15853\n",
              "4    31976  1434348123             wrong    15853"
            ]
          },
          "metadata": {
            "tags": []
          },
          "execution_count": 59
        }
      ]
    },
    {
      "cell_type": "code",
      "metadata": {
        "id": "Jchvm0HI3juL"
      },
      "source": [
        "submissions_data['date'] = pd.to_datetime(submissions_data.timestamp, unit='s')\n",
        "submissions_data['day'] = submissions_data.date.dt.date"
      ],
      "execution_count": 60,
      "outputs": []
    },
    {
      "cell_type": "code",
      "metadata": {
        "colab": {
          "base_uri": "https://localhost:8080/",
          "height": 204
        },
        "id": "2dF3mmch34P2",
        "outputId": "0db6589f-988c-461f-ef99-aaad7e2c1461"
      },
      "source": [
        "submissions_data.head()"
      ],
      "execution_count": 61,
      "outputs": [
        {
          "output_type": "execute_result",
          "data": {
            "text/html": [
              "<div>\n",
              "<style scoped>\n",
              "    .dataframe tbody tr th:only-of-type {\n",
              "        vertical-align: middle;\n",
              "    }\n",
              "\n",
              "    .dataframe tbody tr th {\n",
              "        vertical-align: top;\n",
              "    }\n",
              "\n",
              "    .dataframe thead th {\n",
              "        text-align: right;\n",
              "    }\n",
              "</style>\n",
              "<table border=\"1\" class=\"dataframe\">\n",
              "  <thead>\n",
              "    <tr style=\"text-align: right;\">\n",
              "      <th></th>\n",
              "      <th>step_id</th>\n",
              "      <th>timestamp</th>\n",
              "      <th>submission_status</th>\n",
              "      <th>user_id</th>\n",
              "      <th>date</th>\n",
              "      <th>day</th>\n",
              "    </tr>\n",
              "  </thead>\n",
              "  <tbody>\n",
              "    <tr>\n",
              "      <th>0</th>\n",
              "      <td>31971</td>\n",
              "      <td>1434349275</td>\n",
              "      <td>correct</td>\n",
              "      <td>15853</td>\n",
              "      <td>2015-06-15 06:21:15</td>\n",
              "      <td>2015-06-15</td>\n",
              "    </tr>\n",
              "    <tr>\n",
              "      <th>1</th>\n",
              "      <td>31972</td>\n",
              "      <td>1434348300</td>\n",
              "      <td>correct</td>\n",
              "      <td>15853</td>\n",
              "      <td>2015-06-15 06:05:00</td>\n",
              "      <td>2015-06-15</td>\n",
              "    </tr>\n",
              "    <tr>\n",
              "      <th>2</th>\n",
              "      <td>31972</td>\n",
              "      <td>1478852149</td>\n",
              "      <td>wrong</td>\n",
              "      <td>15853</td>\n",
              "      <td>2016-11-11 08:15:49</td>\n",
              "      <td>2016-11-11</td>\n",
              "    </tr>\n",
              "    <tr>\n",
              "      <th>3</th>\n",
              "      <td>31972</td>\n",
              "      <td>1478852164</td>\n",
              "      <td>correct</td>\n",
              "      <td>15853</td>\n",
              "      <td>2016-11-11 08:16:04</td>\n",
              "      <td>2016-11-11</td>\n",
              "    </tr>\n",
              "    <tr>\n",
              "      <th>4</th>\n",
              "      <td>31976</td>\n",
              "      <td>1434348123</td>\n",
              "      <td>wrong</td>\n",
              "      <td>15853</td>\n",
              "      <td>2015-06-15 06:02:03</td>\n",
              "      <td>2015-06-15</td>\n",
              "    </tr>\n",
              "  </tbody>\n",
              "</table>\n",
              "</div>"
            ],
            "text/plain": [
              "   step_id   timestamp  ...                date         day\n",
              "0    31971  1434349275  ... 2015-06-15 06:21:15  2015-06-15\n",
              "1    31972  1434348300  ... 2015-06-15 06:05:00  2015-06-15\n",
              "2    31972  1478852149  ... 2016-11-11 08:15:49  2016-11-11\n",
              "3    31972  1478852164  ... 2016-11-11 08:16:04  2016-11-11\n",
              "4    31976  1434348123  ... 2015-06-15 06:02:03  2015-06-15\n",
              "\n",
              "[5 rows x 6 columns]"
            ]
          },
          "metadata": {
            "tags": []
          },
          "execution_count": 61
        }
      ]
    },
    {
      "cell_type": "code",
      "metadata": {
        "id": "mNiRxLpF3921"
      },
      "source": [
        "users_scores = submissions_data.pivot_table(index = 'user_id', columns = 'submission_status', values = 'step_id', aggfunc = 'count', fill_value=0).reset_index()"
      ],
      "execution_count": 62,
      "outputs": []
    },
    {
      "cell_type": "code",
      "metadata": {
        "colab": {
          "base_uri": "https://localhost:8080/",
          "height": 204
        },
        "id": "RPmkJphg4WyI",
        "outputId": "926ef466-16e8-44dd-82df-21e36407bb81"
      },
      "source": [
        "users_scores.head()"
      ],
      "execution_count": 63,
      "outputs": [
        {
          "output_type": "execute_result",
          "data": {
            "text/html": [
              "<div>\n",
              "<style scoped>\n",
              "    .dataframe tbody tr th:only-of-type {\n",
              "        vertical-align: middle;\n",
              "    }\n",
              "\n",
              "    .dataframe tbody tr th {\n",
              "        vertical-align: top;\n",
              "    }\n",
              "\n",
              "    .dataframe thead th {\n",
              "        text-align: right;\n",
              "    }\n",
              "</style>\n",
              "<table border=\"1\" class=\"dataframe\">\n",
              "  <thead>\n",
              "    <tr style=\"text-align: right;\">\n",
              "      <th>submission_status</th>\n",
              "      <th>user_id</th>\n",
              "      <th>correct</th>\n",
              "      <th>wrong</th>\n",
              "    </tr>\n",
              "  </thead>\n",
              "  <tbody>\n",
              "    <tr>\n",
              "      <th>0</th>\n",
              "      <td>2</td>\n",
              "      <td>2</td>\n",
              "      <td>0</td>\n",
              "    </tr>\n",
              "    <tr>\n",
              "      <th>1</th>\n",
              "      <td>3</td>\n",
              "      <td>29</td>\n",
              "      <td>23</td>\n",
              "    </tr>\n",
              "    <tr>\n",
              "      <th>2</th>\n",
              "      <td>5</td>\n",
              "      <td>2</td>\n",
              "      <td>2</td>\n",
              "    </tr>\n",
              "    <tr>\n",
              "      <th>3</th>\n",
              "      <td>8</td>\n",
              "      <td>9</td>\n",
              "      <td>21</td>\n",
              "    </tr>\n",
              "    <tr>\n",
              "      <th>4</th>\n",
              "      <td>14</td>\n",
              "      <td>0</td>\n",
              "      <td>1</td>\n",
              "    </tr>\n",
              "  </tbody>\n",
              "</table>\n",
              "</div>"
            ],
            "text/plain": [
              "submission_status  user_id  correct  wrong\n",
              "0                        2        2      0\n",
              "1                        3       29     23\n",
              "2                        5        2      2\n",
              "3                        8        9     21\n",
              "4                       14        0      1"
            ]
          },
          "metadata": {
            "tags": []
          },
          "execution_count": 63
        }
      ]
    },
    {
      "cell_type": "code",
      "metadata": {
        "colab": {
          "base_uri": "https://localhost:8080/"
        },
        "id": "I3FBXDh74ZzU",
        "outputId": "78630eb3-a768-4a9b-ccd1-d86e99486361"
      },
      "source": [
        "gap_data = events_data[['user_id' , 'day', 'timestamp']].drop_duplicates(subset=['user_id' , 'day']).groupby('user_id')['timestamp'].apply(list).apply(np.diff).values\n",
        "gap_data"
      ],
      "execution_count": 64,
      "outputs": [
        {
          "output_type": "execute_result",
          "data": {
            "text/plain": [
              "array([array([], dtype=int64), array([4843602]),\n",
              "       array([6899249,  182484,   93710, 2768870,  171400,   78712]), ...,\n",
              "       array([   86128,   136759,    94899,  1422583, 14347289,   505061,\n",
              "          98252,    57019]),\n",
              "       array([1567990]), array([], dtype=int64)], dtype=object)"
            ]
          },
          "metadata": {
            "tags": []
          },
          "execution_count": 64
        }
      ]
    },
    {
      "cell_type": "code",
      "metadata": {
        "id": "iCm11Hyd5yL1"
      },
      "source": [
        "gap_data = pd.Series(np.concatenate(gap_data, axis=0))\n"
      ],
      "execution_count": 65,
      "outputs": []
    },
    {
      "cell_type": "code",
      "metadata": {
        "id": "EwlqFQEm8QHX"
      },
      "source": [
        "gap_data = gap_data / (24*60*60)"
      ],
      "execution_count": 69,
      "outputs": []
    },
    {
      "cell_type": "code",
      "metadata": {
        "colab": {
          "base_uri": "https://localhost:8080/",
          "height": 282
        },
        "id": "5FqBd7Y389uU",
        "outputId": "e44cbc24-4e77-4c09-e0f4-45a0872b8d55"
      },
      "source": [
        "gap_data[gap_data < 200].hist()"
      ],
      "execution_count": 70,
      "outputs": [
        {
          "output_type": "execute_result",
          "data": {
            "text/plain": [
              "<matplotlib.axes._subplots.AxesSubplot at 0x7f6406fca210>"
            ]
          },
          "metadata": {
            "tags": []
          },
          "execution_count": 70
        },
        {
          "output_type": "display_data",
          "data": {
            "image/png": "[encoded data removed]",
            "text/plain": [
              "<Figure size 432x288 with 1 Axes>"
            ]
          },
          "metadata": {
            "tags": [],
            "needs_background": "light"
          }
        }
      ]
    },
    {
      "cell_type": "code",
      "metadata": {
        "colab": {
          "base_uri": "https://localhost:8080/"
        },
        "id": "IofLdyDW9RKq",
        "outputId": "b0681c61-09e4-4b6e-e3e8-80eb5bfb9635"
      },
      "source": [
        "gap_data.quantile(0.95)"
      ],
      "execution_count": 71,
      "outputs": [
        {
          "output_type": "execute_result",
          "data": {
            "text/plain": [
              "59.760440972222156"
            ]
          },
          "metadata": {
            "tags": []
          },
          "execution_count": 71
        }
      ]
    },
    {
      "cell_type": "code",
      "metadata": {
        "colab": {
          "base_uri": "https://localhost:8080/",
          "height": 450
        },
        "id": "h4dlr1ke-AlF",
        "outputId": "5a5d4fa8-ab8d-4671-8d7d-ea7f8f6614c8"
      },
      "source": [
        "events_data.sort_values('timestamp')"
      ],
      "execution_count": 72,
      "outputs": [
        {
          "output_type": "execute_result",
          "data": {
            "text/html": [
              "<div>\n",
              "<style scoped>\n",
              "    .dataframe tbody tr th:only-of-type {\n",
              "        vertical-align: middle;\n",
              "    }\n",
              "\n",
              "    .dataframe tbody tr th {\n",
              "        vertical-align: top;\n",
              "    }\n",
              "\n",
              "    .dataframe thead th {\n",
              "        text-align: right;\n",
              "    }\n",
              "</style>\n",
              "<table border=\"1\" class=\"dataframe\">\n",
              "  <thead>\n",
              "    <tr style=\"text-align: right;\">\n",
              "      <th></th>\n",
              "      <th>step_id</th>\n",
              "      <th>timestamp</th>\n",
              "      <th>action</th>\n",
              "      <th>user_id</th>\n",
              "      <th>date</th>\n",
              "      <th>day</th>\n",
              "    </tr>\n",
              "    <tr>\n",
              "      <th>date</th>\n",
              "      <th></th>\n",
              "      <th></th>\n",
              "      <th></th>\n",
              "      <th></th>\n",
              "      <th></th>\n",
              "      <th></th>\n",
              "    </tr>\n",
              "  </thead>\n",
              "  <tbody>\n",
              "    <tr>\n",
              "      <th>2015-06-15 04:00:48</th>\n",
              "      <td>32815</td>\n",
              "      <td>1434340848</td>\n",
              "      <td>viewed</td>\n",
              "      <td>17632</td>\n",
              "      <td>2015-06-15 04:00:48</td>\n",
              "      <td>2015-06-15</td>\n",
              "    </tr>\n",
              "    <tr>\n",
              "      <th>2015-06-15 04:00:48</th>\n",
              "      <td>32815</td>\n",
              "      <td>1434340848</td>\n",
              "      <td>passed</td>\n",
              "      <td>17632</td>\n",
              "      <td>2015-06-15 04:00:48</td>\n",
              "      <td>2015-06-15</td>\n",
              "    </tr>\n",
              "    <tr>\n",
              "      <th>2015-06-15 04:00:48</th>\n",
              "      <td>32815</td>\n",
              "      <td>1434340848</td>\n",
              "      <td>discovered</td>\n",
              "      <td>17632</td>\n",
              "      <td>2015-06-15 04:00:48</td>\n",
              "      <td>2015-06-15</td>\n",
              "    </tr>\n",
              "    <tr>\n",
              "      <th>2015-06-15 04:01:35</th>\n",
              "      <td>32811</td>\n",
              "      <td>1434340895</td>\n",
              "      <td>discovered</td>\n",
              "      <td>17632</td>\n",
              "      <td>2015-06-15 04:01:35</td>\n",
              "      <td>2015-06-15</td>\n",
              "    </tr>\n",
              "    <tr>\n",
              "      <th>2015-06-15 04:01:35</th>\n",
              "      <td>32811</td>\n",
              "      <td>1434340895</td>\n",
              "      <td>viewed</td>\n",
              "      <td>17632</td>\n",
              "      <td>2015-06-15 04:01:35</td>\n",
              "      <td>2015-06-15</td>\n",
              "    </tr>\n",
              "    <tr>\n",
              "      <th>...</th>\n",
              "      <td>...</td>\n",
              "      <td>...</td>\n",
              "      <td>...</td>\n",
              "      <td>...</td>\n",
              "      <td>...</td>\n",
              "      <td>...</td>\n",
              "    </tr>\n",
              "    <tr>\n",
              "      <th>2018-05-19 23:31:25</th>\n",
              "      <td>33375</td>\n",
              "      <td>1526772685</td>\n",
              "      <td>passed</td>\n",
              "      <td>11677</td>\n",
              "      <td>2018-05-19 23:31:25</td>\n",
              "      <td>2018-05-19</td>\n",
              "    </tr>\n",
              "    <tr>\n",
              "      <th>2018-05-19 23:32:30</th>\n",
              "      <td>32815</td>\n",
              "      <td>1526772750</td>\n",
              "      <td>discovered</td>\n",
              "      <td>5198</td>\n",
              "      <td>2018-05-19 23:32:30</td>\n",
              "      <td>2018-05-19</td>\n",
              "    </tr>\n",
              "    <tr>\n",
              "      <th>2018-05-19 23:32:30</th>\n",
              "      <td>32815</td>\n",
              "      <td>1526772750</td>\n",
              "      <td>passed</td>\n",
              "      <td>5198</td>\n",
              "      <td>2018-05-19 23:32:30</td>\n",
              "      <td>2018-05-19</td>\n",
              "    </tr>\n",
              "    <tr>\n",
              "      <th>2018-05-19 23:32:30</th>\n",
              "      <td>32815</td>\n",
              "      <td>1526772750</td>\n",
              "      <td>viewed</td>\n",
              "      <td>5198</td>\n",
              "      <td>2018-05-19 23:32:30</td>\n",
              "      <td>2018-05-19</td>\n",
              "    </tr>\n",
              "    <tr>\n",
              "      <th>2018-05-19 23:33:31</th>\n",
              "      <td>33892</td>\n",
              "      <td>1526772811</td>\n",
              "      <td>viewed</td>\n",
              "      <td>18526</td>\n",
              "      <td>2018-05-19 23:33:31</td>\n",
              "      <td>2018-05-19</td>\n",
              "    </tr>\n",
              "  </tbody>\n",
              "</table>\n",
              "<p>3480703 rows × 6 columns</p>\n",
              "</div>"
            ],
            "text/plain": [
              "                     step_id   timestamp  ...                date         day\n",
              "date                                      ...                                \n",
              "2015-06-15 04:00:48    32815  1434340848  ... 2015-06-15 04:00:48  2015-06-15\n",
              "2015-06-15 04:00:48    32815  1434340848  ... 2015-06-15 04:00:48  2015-06-15\n",
              "2015-06-15 04:00:48    32815  1434340848  ... 2015-06-15 04:00:48  2015-06-15\n",
              "2015-06-15 04:01:35    32811  1434340895  ... 2015-06-15 04:01:35  2015-06-15\n",
              "2015-06-15 04:01:35    32811  1434340895  ... 2015-06-15 04:01:35  2015-06-15\n",
              "...                      ...         ...  ...                 ...         ...\n",
              "2018-05-19 23:31:25    33375  1526772685  ... 2018-05-19 23:31:25  2018-05-19\n",
              "2018-05-19 23:32:30    32815  1526772750  ... 2018-05-19 23:32:30  2018-05-19\n",
              "2018-05-19 23:32:30    32815  1526772750  ... 2018-05-19 23:32:30  2018-05-19\n",
              "2018-05-19 23:32:30    32815  1526772750  ... 2018-05-19 23:32:30  2018-05-19\n",
              "2018-05-19 23:33:31    33892  1526772811  ... 2018-05-19 23:33:31  2018-05-19\n",
              "\n",
              "[3480703 rows x 6 columns]"
            ]
          },
          "metadata": {
            "tags": []
          },
          "execution_count": 72
        }
      ]
    },
    {
      "cell_type": "code",
      "metadata": {
        "colab": {
          "base_uri": "https://localhost:8080/",
          "height": 419
        },
        "id": "GhZGx0aCLEni",
        "outputId": "24d9565f-3d86-4b21-a8ab-ea7572414fca"
      },
      "source": [
        "users_scores.sort_values('correct', ascending=False)"
      ],
      "execution_count": 73,
      "outputs": [
        {
          "output_type": "execute_result",
          "data": {
            "text/html": [
              "<div>\n",
              "<style scoped>\n",
              "    .dataframe tbody tr th:only-of-type {\n",
              "        vertical-align: middle;\n",
              "    }\n",
              "\n",
              "    .dataframe tbody tr th {\n",
              "        vertical-align: top;\n",
              "    }\n",
              "\n",
              "    .dataframe thead th {\n",
              "        text-align: right;\n",
              "    }\n",
              "</style>\n",
              "<table border=\"1\" class=\"dataframe\">\n",
              "  <thead>\n",
              "    <tr style=\"text-align: right;\">\n",
              "      <th>submission_status</th>\n",
              "      <th>user_id</th>\n",
              "      <th>correct</th>\n",
              "      <th>wrong</th>\n",
              "    </tr>\n",
              "  </thead>\n",
              "  <tbody>\n",
              "    <tr>\n",
              "      <th>439</th>\n",
              "      <td>1046</td>\n",
              "      <td>421</td>\n",
              "      <td>513</td>\n",
              "    </tr>\n",
              "    <tr>\n",
              "      <th>2099</th>\n",
              "      <td>5552</td>\n",
              "      <td>186</td>\n",
              "      <td>93</td>\n",
              "    </tr>\n",
              "    <tr>\n",
              "      <th>6415</th>\n",
              "      <td>17135</td>\n",
              "      <td>168</td>\n",
              "      <td>177</td>\n",
              "    </tr>\n",
              "    <tr>\n",
              "      <th>2344</th>\n",
              "      <td>6183</td>\n",
              "      <td>142</td>\n",
              "      <td>65</td>\n",
              "    </tr>\n",
              "    <tr>\n",
              "      <th>3208</th>\n",
              "      <td>8461</td>\n",
              "      <td>135</td>\n",
              "      <td>42</td>\n",
              "    </tr>\n",
              "    <tr>\n",
              "      <th>...</th>\n",
              "      <td>...</td>\n",
              "      <td>...</td>\n",
              "      <td>...</td>\n",
              "    </tr>\n",
              "    <tr>\n",
              "      <th>551</th>\n",
              "      <td>1321</td>\n",
              "      <td>0</td>\n",
              "      <td>2</td>\n",
              "    </tr>\n",
              "    <tr>\n",
              "      <th>9778</th>\n",
              "      <td>26349</td>\n",
              "      <td>0</td>\n",
              "      <td>1</td>\n",
              "    </tr>\n",
              "    <tr>\n",
              "      <th>3559</th>\n",
              "      <td>9422</td>\n",
              "      <td>0</td>\n",
              "      <td>1</td>\n",
              "    </tr>\n",
              "    <tr>\n",
              "      <th>5014</th>\n",
              "      <td>13408</td>\n",
              "      <td>0</td>\n",
              "      <td>2</td>\n",
              "    </tr>\n",
              "    <tr>\n",
              "      <th>6377</th>\n",
              "      <td>17033</td>\n",
              "      <td>0</td>\n",
              "      <td>3</td>\n",
              "    </tr>\n",
              "  </tbody>\n",
              "</table>\n",
              "<p>9940 rows × 3 columns</p>\n",
              "</div>"
            ],
            "text/plain": [
              "submission_status  user_id  correct  wrong\n",
              "439                   1046      421    513\n",
              "2099                  5552      186     93\n",
              "6415                 17135      168    177\n",
              "2344                  6183      142     65\n",
              "3208                  8461      135     42\n",
              "...                    ...      ...    ...\n",
              "551                   1321        0      2\n",
              "9778                 26349        0      1\n",
              "3559                  9422        0      1\n",
              "5014                 13408        0      2\n",
              "6377                 17033        0      3\n",
              "\n",
              "[9940 rows x 3 columns]"
            ]
          },
          "metadata": {
            "tags": []
          },
          "execution_count": 73
        }
      ]
    },
    {
      "cell_type": "code",
      "metadata": {
        "colab": {
          "base_uri": "https://localhost:8080/",
          "height": 419
        },
        "id": "F1NgOS2xLqjg",
        "outputId": "2deb4776-ff93-4d7c-dc87-59e1c4f34a6f"
      },
      "source": [
        "users_data = events_data.groupby('user_id', as_index=False).agg({'timestamp' : 'max'}).rename(columns={'timestamp' : 'last_timestamp'})\n",
        "users_data"
      ],
      "execution_count": 76,
      "outputs": [
        {
          "output_type": "execute_result",
          "data": {
            "text/html": [
              "<div>\n",
              "<style scoped>\n",
              "    .dataframe tbody tr th:only-of-type {\n",
              "        vertical-align: middle;\n",
              "    }\n",
              "\n",
              "    .dataframe tbody tr th {\n",
              "        vertical-align: top;\n",
              "    }\n",
              "\n",
              "    .dataframe thead th {\n",
              "        text-align: right;\n",
              "    }\n",
              "</style>\n",
              "<table border=\"1\" class=\"dataframe\">\n",
              "  <thead>\n",
              "    <tr style=\"text-align: right;\">\n",
              "      <th></th>\n",
              "      <th>user_id</th>\n",
              "      <th>last_timestamp</th>\n",
              "    </tr>\n",
              "  </thead>\n",
              "  <tbody>\n",
              "    <tr>\n",
              "      <th>0</th>\n",
              "      <td>1</td>\n",
              "      <td>1472827464</td>\n",
              "    </tr>\n",
              "    <tr>\n",
              "      <th>1</th>\n",
              "      <td>2</td>\n",
              "      <td>1519226966</td>\n",
              "    </tr>\n",
              "    <tr>\n",
              "      <th>2</th>\n",
              "      <td>3</td>\n",
              "      <td>1444581588</td>\n",
              "    </tr>\n",
              "    <tr>\n",
              "      <th>3</th>\n",
              "      <td>5</td>\n",
              "      <td>1499859939</td>\n",
              "    </tr>\n",
              "    <tr>\n",
              "      <th>4</th>\n",
              "      <td>7</td>\n",
              "      <td>1521634660</td>\n",
              "    </tr>\n",
              "    <tr>\n",
              "      <th>...</th>\n",
              "      <td>...</td>\n",
              "      <td>...</td>\n",
              "    </tr>\n",
              "    <tr>\n",
              "      <th>19229</th>\n",
              "      <td>26790</td>\n",
              "      <td>1517495987</td>\n",
              "    </tr>\n",
              "    <tr>\n",
              "      <th>19230</th>\n",
              "      <td>26793</td>\n",
              "      <td>1510225034</td>\n",
              "    </tr>\n",
              "    <tr>\n",
              "      <th>19231</th>\n",
              "      <td>26794</td>\n",
              "      <td>1512035039</td>\n",
              "    </tr>\n",
              "    <tr>\n",
              "      <th>19232</th>\n",
              "      <td>26797</td>\n",
              "      <td>1509995096</td>\n",
              "    </tr>\n",
              "    <tr>\n",
              "      <th>19233</th>\n",
              "      <td>26798</td>\n",
              "      <td>1520978742</td>\n",
              "    </tr>\n",
              "  </tbody>\n",
              "</table>\n",
              "<p>19234 rows × 2 columns</p>\n",
              "</div>"
            ],
            "text/plain": [
              "       user_id  last_timestamp\n",
              "0            1      1472827464\n",
              "1            2      1519226966\n",
              "2            3      1444581588\n",
              "3            5      1499859939\n",
              "4            7      1521634660\n",
              "...        ...             ...\n",
              "19229    26790      1517495987\n",
              "19230    26793      1510225034\n",
              "19231    26794      1512035039\n",
              "19232    26797      1509995096\n",
              "19233    26798      1520978742\n",
              "\n",
              "[19234 rows x 2 columns]"
            ]
          },
          "metadata": {
            "tags": []
          },
          "execution_count": 76
        }
      ]
    },
    {
      "cell_type": "code",
      "metadata": {
        "colab": {
          "base_uri": "https://localhost:8080/"
        },
        "id": "V_pfxCuzS3h2",
        "outputId": "28b0fc1b-62d0-487b-e151-c623b26c7de3"
      },
      "source": [
        "30*24*60*60"
      ],
      "execution_count": 75,
      "outputs": [
        {
          "output_type": "execute_result",
          "data": {
            "text/plain": [
              "2592000"
            ]
          },
          "metadata": {
            "tags": []
          },
          "execution_count": 75
        }
      ]
    },
    {
      "cell_type": "code",
      "metadata": {
        "id": "kYt3-f03Txa2"
      },
      "source": [
        "now = 1520978742\n",
        "drop_out_threshold = 2592000"
      ],
      "execution_count": 81,
      "outputs": []
    },
    {
      "cell_type": "code",
      "metadata": {
        "id": "4RJSlRGwS7WM"
      },
      "source": [
        "users_data['is_gone_user'] = (now - users_data.last_timestamp) > drop_out_threshold"
      ],
      "execution_count": 84,
      "outputs": []
    },
    {
      "cell_type": "code",
      "metadata": {
        "colab": {
          "base_uri": "https://localhost:8080/",
          "height": 204
        },
        "id": "ZX9NDnu8Tn0r",
        "outputId": "2fd8c9b8-2515-415a-db60-e3d5c9ce9547"
      },
      "source": [
        "users_data.head()"
      ],
      "execution_count": 85,
      "outputs": [
        {
          "output_type": "execute_result",
          "data": {
            "text/html": [
              "<div>\n",
              "<style scoped>\n",
              "    .dataframe tbody tr th:only-of-type {\n",
              "        vertical-align: middle;\n",
              "    }\n",
              "\n",
              "    .dataframe tbody tr th {\n",
              "        vertical-align: top;\n",
              "    }\n",
              "\n",
              "    .dataframe thead th {\n",
              "        text-align: right;\n",
              "    }\n",
              "</style>\n",
              "<table border=\"1\" class=\"dataframe\">\n",
              "  <thead>\n",
              "    <tr style=\"text-align: right;\">\n",
              "      <th></th>\n",
              "      <th>user_id</th>\n",
              "      <th>last_timestamp</th>\n",
              "      <th>is_gone_user</th>\n",
              "    </tr>\n",
              "  </thead>\n",
              "  <tbody>\n",
              "    <tr>\n",
              "      <th>0</th>\n",
              "      <td>1</td>\n",
              "      <td>1472827464</td>\n",
              "      <td>True</td>\n",
              "    </tr>\n",
              "    <tr>\n",
              "      <th>1</th>\n",
              "      <td>2</td>\n",
              "      <td>1519226966</td>\n",
              "      <td>False</td>\n",
              "    </tr>\n",
              "    <tr>\n",
              "      <th>2</th>\n",
              "      <td>3</td>\n",
              "      <td>1444581588</td>\n",
              "      <td>True</td>\n",
              "    </tr>\n",
              "    <tr>\n",
              "      <th>3</th>\n",
              "      <td>5</td>\n",
              "      <td>1499859939</td>\n",
              "      <td>True</td>\n",
              "    </tr>\n",
              "    <tr>\n",
              "      <th>4</th>\n",
              "      <td>7</td>\n",
              "      <td>1521634660</td>\n",
              "      <td>False</td>\n",
              "    </tr>\n",
              "  </tbody>\n",
              "</table>\n",
              "</div>"
            ],
            "text/plain": [
              "   user_id  last_timestamp  is_gone_user\n",
              "0        1      1472827464          True\n",
              "1        2      1519226966         False\n",
              "2        3      1444581588          True\n",
              "3        5      1499859939          True\n",
              "4        7      1521634660         False"
            ]
          },
          "metadata": {
            "tags": []
          },
          "execution_count": 85
        }
      ]
    },
    {
      "cell_type": "code",
      "metadata": {
        "id": "NRFLQOcxTpyk"
      },
      "source": [
        ""
      ],
      "execution_count": null,
      "outputs": []
    }
  ]
}